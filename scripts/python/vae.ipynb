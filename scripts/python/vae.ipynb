{
 "cells": [
  {
   "cell_type": "code",
   "execution_count": 2,
   "metadata": {},
   "outputs": [
    {
     "name": "stderr",
     "output_type": "stream",
     "text": [
      "2024-05-07 13:05:03.778300: I tensorflow/core/util/port.cc:110] oneDNN custom operations are on. You may see slightly different numerical results due to floating-point round-off errors from different computation orders. To turn them off, set the environment variable `TF_ENABLE_ONEDNN_OPTS=0`.\n",
      "2024-05-07 13:05:03.865460: I tensorflow/tsl/cuda/cudart_stub.cc:28] Could not find cuda drivers on your machine, GPU will not be used.\n",
      "2024-05-07 13:05:04.233636: I tensorflow/tsl/cuda/cudart_stub.cc:28] Could not find cuda drivers on your machine, GPU will not be used.\n",
      "2024-05-07 13:05:04.238511: I tensorflow/core/platform/cpu_feature_guard.cc:182] This TensorFlow binary is optimized to use available CPU instructions in performance-critical operations.\n",
      "To enable the following instructions: AVX2 AVX512F AVX512_VNNI FMA, in other operations, rebuild TensorFlow with the appropriate compiler flags.\n",
      "2024-05-07 13:05:05.606265: W tensorflow/compiler/tf2tensorrt/utils/py_utils.cc:38] TF-TRT Warning: Could not find TensorRT\n"
     ]
    }
   ],
   "source": [
    "from keras.layers import Input, Dense, Lambda\n",
    "from keras.models import Model\n",
    "from keras import backend as K \n",
    "from keras.losses import mse"
   ]
  },
  {
   "cell_type": "code",
   "execution_count": null,
   "metadata": {},
   "outputs": [],
   "source": [
    "\n",
    "# Define VAE architecture\n",
    "# def leaky_relu(x, alpha=0.2):\n",
    "    # return tf.maximum(alpha * x, x)\n",
    "def create_vae(input_dim, latent_dim, intermediate_dim,intermediate_dim_1,intermediate_dim_2,intermediate_dim_3):\n",
    "    input_layer = Input(shape=(input_dim,))\n",
    "    x = Dense(intermediate_dim, activation='relu')(input_layer)\n",
    "    x = Dense(intermediate_dim_1, activation='relu')(x)\n",
    "    x = Dense(intermediate_dim_2, activation='relu')(x)\n",
    "    x = Dense(intermediate_dim_3, activation='relu')(x)\n",
    "    # x = Dense(intermediate_dim_4, activation='sigmoid')(x)   \n",
    "    # x = Dense(intermediate_dim_5, activation='sigmoid')(x)    \n",
    "    # x = Dense(intermediate_dim_6, activation='sigmoid')(x)\n",
    "\n",
    "    z_mean = Dense(latent_dim)(x)\n",
    "    z_log_var = Dense(latent_dim)(x)\n",
    "\n",
    "    def sampling(args):\n",
    "        z_mean, z_log_var = args\n",
    "        epsilon = K.random_normal(shape=(K.shape(z_mean)[0], latent_dim), mean=0.0, stddev=1.0)\n",
    "        return z_mean + K.exp(0.5 * z_log_var) * epsilon\n",
    "\n",
    "    z = Lambda(sampling)([z_mean, z_log_var])\n",
    "\n",
    "    # decoder_h = Dense(intermediate_dim_6, activation='sigmoid')    \n",
    "    # decoder_h = Dense(intermediate_dim_5, activation='sigmoid')    \n",
    "    # decoder_h = Dense(intermediate_dim_4, activation='sigmoid')    \n",
    "    decoder_h = Dense(intermediate_dim_3, activation='relu')\n",
    "    decoder_h = Dense(intermediate_dim_2, activation='relu')\n",
    "    decoder_h = Dense(intermediate_dim_1, activation='relu')\n",
    "    decoder_h = Dense(intermediate_dim, activation='relu')\n",
    "    decoder_mean = Dense(input_dim, name='decoder_output')\n",
    "\n",
    "    # Output layer with name 'decoder_output'\n",
    "    h_decoded = decoder_h(z)\n",
    "    x_decoded_mean = decoder_mean(h_decoded)\n",
    "\n",
    "    vae = Model(input_layer, x_decoded_mean)\n",
    "\n",
    "    reconstruction_loss = mse(K.flatten(input_layer), K.flatten(x_decoded_mean))\n",
    "    kl_loss = - 0.5 * K.sum(1 + z_log_var - K.square(z_mean) - K.exp(z_log_var), axis=-1)\n",
    "    vae_loss = K.mean(reconstruction_loss + 0.1*kl_loss)\n",
    "    # vae_loss = K.mean(reconstruction_loss)    vae.add_loss(vae_loss)\n",
    "    return vae, z_mean, z_log_var\n",
    "\n",
    "# Example usage:\n",
    "input_dim = y_train.shape[1] # Dimension of input and output\n",
    "latent_dim = 3 # Dimension of latent space\n",
    "intermediate_dim = 20 # Dimension of intermediate layer\n",
    "intermediate_dim_1 = 15\n",
    "intermediate_dim_2 = 10\n",
    "intermediate_dim_3 = 6\n",
    "# intermediate_dim_6 = 4\n",
    "vae, z_mean, z_log_var = create_vae(input_dim, latent_dim, intermediate_dim,intermediate_dim_1,intermediate_dim_2,intermediate_dim_3)\n",
    "vae.compile(optimizer='adam', metrics = ['R2Score'])\n",
    "# vae.compile(optimizer='adam', loss='mse', metrics = ['R2Score'])\n",
    "vae.summary()"
   ]
  }
 ],
 "metadata": {
  "kernelspec": {
   "display_name": "Python 3",
   "language": "python",
   "name": "python3"
  },
  "language_info": {
   "codemirror_mode": {
    "name": "ipython",
    "version": 3
   },
   "file_extension": ".py",
   "mimetype": "text/x-python",
   "name": "python",
   "nbconvert_exporter": "python",
   "pygments_lexer": "ipython3",
   "version": "3.8.10"
  }
 },
 "nbformat": 4,
 "nbformat_minor": 2
}
