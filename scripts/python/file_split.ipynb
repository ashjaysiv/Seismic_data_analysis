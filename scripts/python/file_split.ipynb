{
 "cells": [
  {
   "cell_type": "code",
   "execution_count": 1,
   "metadata": {},
   "outputs": [],
   "source": [
    "import os\n",
    "import shutil"
   ]
  },
  {
   "cell_type": "code",
   "execution_count": 2,
   "metadata": {},
   "outputs": [
    {
     "ename": "FileNotFoundError",
     "evalue": "[Errno 2] No such file or directory: '../../data/Data/'",
     "output_type": "error",
     "traceback": [
      "\u001b[0;31m---------------------------------------------------------------------------\u001b[0m",
      "\u001b[0;31mFileNotFoundError\u001b[0m                         Traceback (most recent call last)",
      "\u001b[1;32m/home/ashmitha/seismic_data/scripts/python/file_split.ipynb Cell 2\u001b[0m line \u001b[0;36m3\n\u001b[1;32m      <a href='vscode-notebook-cell:/home/ashmitha/seismic_data/scripts/python/file_split.ipynb#W1sZmlsZQ%3D%3D?line=0'>1</a>\u001b[0m \u001b[39m# Path to the directory containing your files\u001b[39;00m\n\u001b[1;32m      <a href='vscode-notebook-cell:/home/ashmitha/seismic_data/scripts/python/file_split.ipynb#W1sZmlsZQ%3D%3D?line=1'>2</a>\u001b[0m input_directory \u001b[39m=\u001b[39m \u001b[39m\"\u001b[39m\u001b[39m../../data/Data/\u001b[39m\u001b[39m\"\u001b[39m\n\u001b[0;32m----> <a href='vscode-notebook-cell:/home/ashmitha/seismic_data/scripts/python/file_split.ipynb#W1sZmlsZQ%3D%3D?line=2'>3</a>\u001b[0m files \u001b[39m=\u001b[39m \u001b[39msorted\u001b[39m(os\u001b[39m.\u001b[39;49mlistdir(input_directory))\n\u001b[1;32m      <a href='vscode-notebook-cell:/home/ashmitha/seismic_data/scripts/python/file_split.ipynb#W1sZmlsZQ%3D%3D?line=3'>4</a>\u001b[0m \u001b[39m# Create folders for each person\u001b[39;00m\n\u001b[1;32m      <a href='vscode-notebook-cell:/home/ashmitha/seismic_data/scripts/python/file_split.ipynb#W1sZmlsZQ%3D%3D?line=4'>5</a>\u001b[0m \u001b[39mfor\u001b[39;00m i \u001b[39min\u001b[39;00m \u001b[39mrange\u001b[39m(\u001b[39m1\u001b[39m, \u001b[39m8\u001b[39m):\n",
      "\u001b[0;31mFileNotFoundError\u001b[0m: [Errno 2] No such file or directory: '../../data/Data/'"
     ]
    }
   ],
   "source": [
    "\n",
    "# Path to the directory containing your files\n",
    "input_directory = \"../../data/Data/\"\n",
    "files = sorted(os.listdir(input_directory))\n",
    "# Create folders for each person\n",
    "for i in range(1, 8):\n",
    "    folder_name = str(i)\n",
    "    os.makedirs(os.path.join(input_directory, folder_name), exist_ok=True)"
   ]
  },
  {
   "cell_type": "code",
   "execution_count": null,
   "metadata": {},
   "outputs": [
    {
     "name": "stdout",
     "output_type": "stream",
     "text": [
      "Files have been distributed among 7 folders with remaining files added to the last folder.\n"
     ]
    }
   ],
   "source": [
    "for i, file in enumerate(files):\n",
    "\n",
    "        person_folder = str((i%7) + 1)\n",
    "        source_path = os.path.join(input_directory, file)\n",
    "        destination_path = os.path.join(input_directory+person_folder)\n",
    "\n",
    "        shutil.move(source_path, destination_path)\n",
    "\n",
    "\n",
    "print(\"Files have been distributed among 7 folders with remaining files added to the last folder.\")\n"
   ]
  },
  {
   "cell_type": "markdown",
   "metadata": {},
   "source": [
    "input file creation"
   ]
  },
  {
   "cell_type": "code",
   "execution_count": null,
   "metadata": {},
   "outputs": [],
   "source": [
    "import pandas as pd\n",
    "import numpy as np"
   ]
  },
  {
   "cell_type": "code",
   "execution_count": null,
   "metadata": {},
   "outputs": [],
   "source": [
    "\n",
    "# Replace 'your_file.xlsx' with the path to your Excel file\n",
    "file_path = '../../data/part3/nga_flstfile.xlsx'\n",
    "\n",
    "# Read the Excel file into a pandas DataFrame\n",
    "data = pd.read_excel(file_path)\n",
    "\n",
    "input_vaiables = pd.DataFrame()\n",
    "\n",
    "input_vaiables[\"Mw\"] = data['Earthquake Magnitude']\n",
    "input_vaiables[\"Rrup\"] = data['ClstD (km)']\n",
    "input_vaiables[\"log(Rrup)\"] = np.log(data['ClstD (km)'])\n",
    "input_vaiables[\"VS30\"] = data['Preferred VS30 (m/sec)']\n",
    "input_vaiables[\"focal_depth\"] = data['Preferred VS30 (m/sec)']\n",
    "input_vaiables[\"eq_name\"] = data[\"Earthquake Name\"]\n",
    "input_vaiables[\"eq_id\"] = data[\"Record Sequence Number\"]\n",
    "\n",
    "\n",
    "input_vaiables.to_csv('inputs.csv', index=False)"
   ]
  },
  {
   "cell_type": "code",
   "execution_count": null,
   "metadata": {},
   "outputs": [],
   "source": []
  },
  {
   "cell_type": "code",
   "execution_count": null,
   "metadata": {},
   "outputs": [],
   "source": []
  },
  {
   "cell_type": "code",
   "execution_count": null,
   "metadata": {},
   "outputs": [],
   "source": []
  }
 ],
 "metadata": {
  "kernelspec": {
   "display_name": "Python 3",
   "language": "python",
   "name": "python3"
  },
  "language_info": {
   "codemirror_mode": {
    "name": "ipython",
    "version": 3
   },
   "file_extension": ".py",
   "mimetype": "text/x-python",
   "name": "python",
   "nbconvert_exporter": "python",
   "pygments_lexer": "ipython3",
   "version": "3.8.10"
  }
 },
 "nbformat": 4,
 "nbformat_minor": 2
}
